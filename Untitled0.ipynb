{
  "nbformat": 4,
  "nbformat_minor": 0,
  "metadata": {
    "colab": {
      "provenance": []
    },
    "kernelspec": {
      "name": "python3",
      "display_name": "Python 3"
    },
    "language_info": {
      "name": "python"
    }
  },
  "cells": [
    {
      "cell_type": "code",
      "execution_count": null,
      "metadata": {
        "id": "2HtvbTmWsiCi",
        "colab": {
          "base_uri": "https://localhost:8080/"
        },
        "outputId": "0353f8ad-ff2a-4f72-d229-1003e125002d"
      },
      "outputs": [
        {
          "metadata": {
            "tags": null
          },
          "name": "stdout",
          "output_type": "stream",
          "text": [
            "Tebak angka dari 1 sampai 10. Kamu punya 3 kesempatan! >___<\n",
            "Terlalu kecil :c\n",
            "Sisa kesempatan: 2\n"
          ]
        }
      ],
      "source": [
        "import random\n",
        "\n",
        "angka_rahasia = random.randint(1, 10)\n",
        "tebakan = 0\n",
        "kesempatan = 3\n",
        "\n",
        "print(\"Tebak angka dari 1 sampai 10. Kamu punya 3 kesempatan! >___<\")\n",
        "\n",
        "while tebakan != angka_rahasia and kesempatan > 0:\n",
        "  tebakan = int(input(\"Masukkan tebakan kamu: \"))\n",
        "  kesempatan -= 1\n",
        "\n",
        "  if tebakan < angka_rahasia:\n",
        "    print(\"Terlalu kecil :c\")\n",
        "  elif tebakan > angka_rahasia:\n",
        "    print(\"Terlalu besar :o\")\n",
        "  else:\n",
        "    print(\"YEAY BENAR!\")\n",
        "    break\n",
        "\n",
        "  print(f\"Sisa kesempatan: {kesempatan}\")\n",
        "\n",
        "if tebakan != angka_rahasia:\n",
        "  print(\"Game over! Angka yang benar adalah\", angka_rahasia)"
      ]
    }
  ]
}